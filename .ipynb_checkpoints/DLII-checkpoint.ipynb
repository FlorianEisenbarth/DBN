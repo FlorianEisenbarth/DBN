{
 "cells": [
  {
   "cell_type": "code",
   "execution_count": 1,
   "metadata": {},
   "outputs": [],
   "source": [
    "import pandas as pd\n",
    "import scipy.io as sio\n",
    "import numpy as np\n",
    "import matplotlib.pyplot as plt"
   ]
  },
  {
   "cell_type": "code",
   "execution_count": 3,
   "metadata": {},
   "outputs": [],
   "source": [
    "#chargement des données\n",
    "dfAlphaDigits = sio.loadmat(\"binaryalphadigs.mat\")"
   ]
  },
  {
   "cell_type": "code",
   "execution_count": 4,
   "metadata": {},
   "outputs": [],
   "source": [
    "#lire_alpha_digit\n",
    "def lire_alpha_digit(dataset, listId):\n",
    "    subsetData = dataset[listId,:].flatten()\n",
    "    listImages = np.array([])\n",
    "\n",
    "    for data in subsetData:\n",
    "        listImages = np.append(listImages,data.flatten())\n",
    "    \n",
    "  \n",
    "    output = np.array(listImages)\n",
    "\n",
    "    return output\n",
    "\n",
    "def lire_alpha_digit(dataset, list_idx):\n",
    "  imgs_set = dataset[list_idx,:].flatten()\n",
    "  imgs_flatten = []\n",
    "\n",
    "  for img in imgs_set:\n",
    "    imgs_flatten.append(img.flatten())\n",
    "  \n",
    "  imgs_set_output = np.array(imgs_flatten)\n",
    "\n",
    "  return imgs_set_output"
   ]
  },
  {
   "cell_type": "code",
   "execution_count": 5,
   "metadata": {},
   "outputs": [],
   "source": [
    "class RBMobject:\n",
    "  def __init__(self, p, q):\n",
    "    self.W = 0.01 * np.random.rand(p,q)\n",
    "    self.a = np.zeros((1,p))\n",
    "    self.b = np.zeros((1,q))\n",
    "    \n",
    "def init_RBM(p,q):\n",
    "    rbm = RBMobject(p,q)\n",
    "    rbm.W = 0.01 * np.random.rand(p,q)\n",
    "    return rbm"
   ]
  },
  {
   "cell_type": "code",
   "execution_count": 6,
   "metadata": {},
   "outputs": [],
   "source": [
    "def sigmoide(x):\n",
    "    return 1/(1+np.exp(-x))\n",
    "\n",
    "def entree_sortie_RBM(RBM, data):\n",
    "    b = RBM.b.reshape(-1,1)\n",
    "    W = RBM.W\n",
    "    #n, p = data.shape\n",
    "\n",
    "    sortie_RBM = 1/(1 + np.exp(- b.T - np.dot(data, W)))\n",
    "\n",
    "    return sortie_RBM"
   ]
  },
  {
   "cell_type": "code",
   "execution_count": 7,
   "metadata": {},
   "outputs": [],
   "source": [
    "  \n",
    "def sortie_entree_RBM(RBM, output_values):\n",
    "    W = RBM.W\n",
    "    a = RBM.a.reshape(-1,1)\n",
    "    #n, p = output_values.shape\n",
    "    \n",
    "    entree_RBM = 1/(1 + np.exp(- a.T - np.dot(output_values, W.T)))\n",
    "    return entree_RBM\n",
    "    "
   ]
  },
  {
   "cell_type": "code",
   "execution_count": 8,
   "metadata": {},
   "outputs": [],
   "source": [
    "def train_RBM(RBM, nb_epochs, learning_rate, batch_size, data, q):\n",
    "    MSE = []\n",
    "    n = data.shape[0]\n",
    "    p = data.shape[1]\n",
    "    for i in range(0, nb_epochs):\n",
    "        #shuffle\n",
    "        np.random.shuffle(data)\n",
    "        #batch iteration\n",
    "        for batch in range(0, n, batch_size):\n",
    "            indexX = np.arange(batch, min(batch + batch_size, n))\n",
    "            data_batch = data[indexX, :]\n",
    "            taille_batch = data_batch.shape[0]\n",
    "            v_0 = data_batch\n",
    "            p_h_v_0 = entree_sortie_RBM(RBM, v_0)\n",
    "            #tirage suivant la loi\n",
    "            h_0 = (np.random.rand(taille_batch, q) < p_h_v_0).astype(int)\n",
    "            p_v_h_0 = sortie_entree_RBM(RBM, h_0)\n",
    "            #tirage suivant la loi\n",
    "            v_1 = (np.random.rand(taille_batch, p) < p_v_h_0).astype(int)\n",
    "            p_h_v_1 = entree_sortie_RBM(RBM, v_1)\n",
    "            \n",
    "            #Gradient descent\n",
    "            da = np.sum(v_0-v_1, axis = 0)/taille_batch\n",
    "            db = np.sum(p_h_v_0 - p_h_v_1, axis=0)/taille_batch\n",
    "            dW = (v_0.T @ p_h_v_0 - v_1.T @ p_h_v_1) / taille_batch\n",
    "            \n",
    "            RBM.a = RBM.a + learning_rate * da\n",
    "            RBM.b = RBM.b + learning_rate * db\n",
    "            RBM.W = RBM.W + learning_rate * dW\n",
    "            \n",
    "        #reconstruction de l'entrée\n",
    "        h = entree_sortie_RBM(RBM, data)\n",
    "        data_reconstr = sortie_entree_RBM(RBM, h)\n",
    "        MSE.append(np.sum((data_reconstr - data)**2)/(n*p))\n",
    "    return RBM, MSE"
   ]
  },
  {
   "cell_type": "code",
   "execution_count": 9,
   "metadata": {},
   "outputs": [],
   "source": [
    "def generer_image_RBM(RBM, n_img, n_iter):\n",
    "\n",
    "  p,q = RBM.W.shape\n",
    "\n",
    "\n",
    "  for i in range(0, n_img):\n",
    "    v = (np.random.rand(p) < 0.5).astype(\"int\")\n",
    "    for j in range(0,n_iter):\n",
    "        p_h = entree_sortie_RBM(RBM, v)\n",
    "        h = (np.random.rand(q)<p_h).astype('int')\n",
    "        p_v = sortie_entree_RBM(RBM, h)\n",
    "        v = (np.random.rand(p) < p_v).astype('int')\n",
    "\n",
    "    plt.subplot(int(n_img/5), 5, i+1)\n",
    "    plt.imshow(1-v.reshape(20,16), cmap='gray')\n",
    "    plt.show()\n",
    "\n",
    "  return v"
   ]
  },
  {
   "cell_type": "code",
   "execution_count": 24,
   "metadata": {},
   "outputs": [
    {
     "data": {
      "image/png": "[encoded data removed]",
      "text/plain": [
       "<Figure size 432x288 with 1 Axes>"
      ]
     },
     "metadata": {
      "needs_background": "light"
     },
     "output_type": "display_data"
    }
   ],
   "source": [
    "\n",
    "\n",
    "index = [17, 19]\n",
    "data = lire_alpha_digit(dfAlphaDigits['dat'], index)\n",
    "p = data.shape[1]\n",
    "q = 200\n",
    "nb_epochs = 1000\n",
    "learning_rate = 0.1\n",
    "batch_size = 10\n",
    "rbm = RBMobject(p,q)\n",
    "RBM, MSE = train_RBM(rbm, nb_epochs, learning_rate, batch_size, data, q)\n",
    "\n",
    "plt.plot(MSE)\n",
    "plt.show()"
   ]
  },
  {
   "cell_type": "code",
   "execution_count": 11,
   "metadata": {},
   "outputs": [
    {
     "data": {
      "image/png": "[encoded data removed]",
      "text/plain": [
       "<Figure size 432x288 with 1 Axes>"
      ]
     },
     "metadata": {
      "needs_background": "light"
     },
     "output_type": "display_data"
    },
    {
     "data": {
      "image/png": "[encoded data removed]",
      "text/plain": [
       "<Figure size 432x288 with 1 Axes>"
      ]
     },
     "metadata": {
      "needs_background": "light"
     },
     "output_type": "display_data"
    },
    {
     "data": {
      "image/png": "[encoded data removed]",
      "text/plain": [
       "<Figure size 432x288 with 1 Axes>"
      ]
     },
     "metadata": {
      "needs_background": "light"
     },
     "output_type": "display_data"
    },
    {
     "data": {
      "image/png": "[encoded data removed]",
      "text/plain": [
       "<Figure size 432x288 with 1 Axes>"
      ]
     },
     "metadata": {
      "needs_background": "light"
     },
     "output_type": "display_data"
    },
    {
     "data": {
      "image/png": "[encoded data removed]",
      "text/plain": [
       "<Figure size 432x288 with 1 Axes>"
      ]
     },
     "metadata": {
      "needs_background": "light"
     },
     "output_type": "display_data"
    },
    {
     "data": {
      "text/plain": [
       "array([[1, 1, 1, 0, 0, 0, 0, 0, 0, 0, 0, 0, 0, 0, 0, 0, 1, 1, 1, 0, 0, 0,\n",
       "        0, 0, 0, 0, 0, 1, 1, 0, 0, 0, 1, 1, 0, 0, 0, 0, 0, 0, 0, 0, 0, 1,\n",
       "        1, 0, 0, 0, 1, 1, 1, 0, 0, 0, 0, 0, 0, 0, 1, 1, 1, 0, 0, 0, 1, 1,\n",
       "        1, 0, 0, 0, 0, 0, 0, 0, 1, 1, 1, 1, 0, 0, 1, 1, 1, 0, 0, 0, 0, 0,\n",
       "        0, 0, 1, 1, 1, 1, 0, 0, 1, 1, 1, 0, 0, 0, 0, 0, 0, 0, 1, 1, 1, 1,\n",
       "        0, 0, 1, 1, 1, 1, 1, 1, 1, 1, 1, 1, 1, 1, 0, 1, 1, 1, 1, 1, 1, 1,\n",
       "        1, 1, 1, 1, 1, 1, 1, 1, 1, 1, 1, 1, 1, 1, 1, 1, 1, 1, 1, 1, 1, 1,\n",
       "        1, 1, 1, 1, 1, 0, 1, 1, 1, 1, 1, 1, 1, 1, 1, 1, 1, 1, 1, 1, 1, 1,\n",
       "        0, 1, 1, 1, 0, 0, 0, 0, 0, 0, 1, 1, 1, 1, 1, 0, 0, 1, 1, 1, 1, 0,\n",
       "        0, 0, 0, 0, 1, 1, 1, 1, 1, 0, 0, 1, 1, 1, 1, 0, 0, 0, 0, 0, 0, 1,\n",
       "        1, 1, 1, 1, 0, 1, 1, 1, 1, 0, 0, 0, 0, 0, 0, 1, 1, 1, 1, 1, 0, 1,\n",
       "        1, 1, 1, 0, 0, 0, 0, 0, 0, 1, 1, 1, 1, 1, 0, 1, 1, 1, 0, 1, 0, 0,\n",
       "        0, 0, 0, 0, 1, 1, 1, 1, 0, 1, 1, 1, 1, 1, 0, 0, 0, 0, 0, 0, 1, 1,\n",
       "        1, 1, 0, 0, 1, 1, 1, 1, 1, 0, 0, 0, 0, 0, 0, 1, 1, 1, 0, 0, 1, 1,\n",
       "        1, 1, 1, 0, 0, 0, 0, 0, 0, 0, 1, 1]])"
      ]
     },
     "execution_count": 11,
     "metadata": {},
     "output_type": "execute_result"
    }
   ],
   "source": [
    "generer_image_RBM(RBM, 5, 1000)"
   ]
  },
  {
   "cell_type": "code",
   "execution_count": 12,
   "metadata": {},
   "outputs": [],
   "source": [
    "def init_DBN(nb_couches, couches):\n",
    "    DBN = []\n",
    "    for i in range(0, nb_couches):\n",
    "        p = couches[i][0]\n",
    "        q = couches[i][1]\n",
    "        DBN.append(init_RBM(p,q))\n",
    "    return DBN"
   ]
  },
  {
   "cell_type": "code",
   "execution_count": 13,
   "metadata": {},
   "outputs": [],
   "source": [
    "def pretrainDBN(DBN, nb_iter, learning_rate, mini_batch_size, data):\n",
    "    trainDBN = []\n",
    "    nb_couches = len(DBN)\n",
    "    for i in range(0, nb_couches):\n",
    "        q = DBN[i].W.shape[1]\n",
    "        train_RBMi, MSE = train_RBM(DBN[i], nb_iter, learning_rate, mini_batch_size, data, q)\n",
    "        trainDBN.append(train_RBMi)\n",
    "        data = entree_sortie_RBM(DBN[i], data)\n",
    "    return trainDBN"
   ]
  },
  {
   "cell_type": "code",
   "execution_count": 14,
   "metadata": {},
   "outputs": [],
   "source": [
    "def generer_img_DBN(preDBN, nb_iter_gibbs, nb_images, size):\n",
    "    for i in range(0,nb_images):\n",
    "        print(preDBN[-1])\n",
    "        p = preDBN[-1].W.shape[0]\n",
    "        generation = np.random.rand(1, p)\n",
    "        outputImage = (generation < 0.5)\n",
    "        \n",
    "        for iteration in range(nb_iter_gibbs):\n",
    "            probability = entree_sortie_RBM(preDBN[-1], outputImage)\n",
    "            generation = np.random.rand(probability.shape[0], probability.shape[1])\n",
    "            sortie = (generation < probability)\n",
    "            probability = sortie_entree_RBM(preDBN[-1], sortie)\n",
    "            generation = np.random.rand(probability.shape[0], probability.shape[1])\n",
    "            outputImage = (generation < probability)\n",
    "        \n",
    "        for l in range(len(preDBN)-2, -1, -1):\n",
    "            probability = sortie_entree_RBM(preDBN[l], outputImage)\n",
    "            generation = np.random.rand(probability.shape[0], probability.shape[1])\n",
    "            outputImage = (generation < probability)\n",
    "        # afficher image \n",
    "        image_sortie = np.reshape(outputImage, size)\n",
    "        plt.figure()\n",
    "        plt.imshow(image_sortie)"
   ]
  },
  {
   "cell_type": "code",
   "execution_count": 15,
   "metadata": {},
   "outputs": [
    {
     "name": "stdout",
     "output_type": "stream",
     "text": [
      "<__main__.RBMobject object at 0x7fc561e23dd8>\n",
      "<__main__.RBMobject object at 0x7fc561e23dd8>\n"
     ]
    },
    {
     "data": {
      "image/png": "[encoded data removed]",
      "text/plain": [
       "<Figure size 432x288 with 1 Axes>"
      ]
     },
     "metadata": {
      "needs_background": "light"
     },
     "output_type": "display_data"
    },
    {
     "data": {
      "image/png": "[encoded data removed]",
      "text/plain": [
       "<Figure size 432x288 with 1 Axes>"
      ]
     },
     "metadata": {
      "needs_background": "light"
     },
     "output_type": "display_data"
    }
   ],
   "source": [
    "index = [12]\n",
    "data = lire_alpha_digit(dfAlphaDigits['dat'], index)\n",
    "p = data.shape[1]\n",
    "q = 200\n",
    "nb_epochs = 1000\n",
    "learning_rate = 0.1\n",
    "mini_batch_size = 10\n",
    "nb_iter_gibbs = 100\n",
    "nb_images = 2\n",
    "\n",
    "image_x = 20\n",
    "image_y = 16\n",
    "shape = (image_x, image_y)\n",
    "        \n",
    "neurones = [(p, 50),(50, 20),(20, 10)]\n",
    "nb_couches = len(neurones)\n",
    "\n",
    "DBN = init_DBN(nb_couches, neurones)\n",
    "\n",
    "trainDBN = pretrainDBN(DBN, nb_epochs, learning_rate, mini_batch_size, data)\n",
    "generer_img_DBN(trainDBN, nb_iter_gibbs, nb_images, shape)\n",
    "\n",
    "plt.show()"
   ]
  },
  {
   "cell_type": "code",
   "execution_count": 16,
   "metadata": {},
   "outputs": [],
   "source": [
    "def calcul_softmax(rbm, data):\n",
    "    num = np.exp(np.dot(data, rbm.W) + rbm.b)\n",
    "    den = num.sum(1)\n",
    "    denominator = np.zeros(num.shape)\n",
    "    for i in range(num.shape[1]):\n",
    "        denominator[:, i] = den\n",
    "    return num/denominator    "
   ]
  },
  {
   "cell_type": "code",
   "execution_count": 17,
   "metadata": {},
   "outputs": [],
   "source": [
    "def entree_sortie_reseau(dnn, data):\n",
    "    output_couches_cachees = []\n",
    "    output_couches_cachees.append(entree_sortie_RBM(dnn[0], data))\n",
    "    for i in range(1, len(dnn) - 1):\n",
    "        output_couches_cachees.append(entree_sortie_RBM(dnn[i], output_couches_cachees[i-1]))\n",
    "    output_couches_cachees.append(calcul_softmax(dnn[len(dnn)-1], output_couches_cachees[-1]))\n",
    "    return output_couches_cachees"
   ]
  },
  {
   "cell_type": "code",
   "execution_count": 18,
   "metadata": {},
   "outputs": [],
   "source": [
    "def retropropagation(dnn, n_iter, learning_rate, mini_batch_size, data, label):\n",
    "    entropy=[]\n",
    "    for iteration in range(0, n_iter):\n",
    "        np.random.shuffle(data)\n",
    "        for batch in range(0, data, batch_size):\n",
    "            newDNN = dnn\n",
    "            indexX = np.arange(batch, min(batch + mini_batch_size, n))\n",
    "            data_batch = data[indexX, :]\n",
    "            taille_batch = data_batch.shape[0]\n",
    "            output_couches = entree_sortie_reseau(dnn, data_batch)\n",
    "            \n",
    "            diff_output_true_label = output_couches[-1] - label[indexX]\n",
    "            grad_W = np.dot(output_couches[len(dnn)-2].T, diff_output_true_label)\n",
    "            grad_b = diff_output_true_label.sum(0)\n",
    "            newDNN[-1].W = newDNN[len(dnn) - 1].W - learning_rate * grad_W / taille_batch\n",
    "            newDNN[-1].b = newDNN[len(dnn) - 1].b - learning_rate * grad_b / taille_batch\n",
    "            \n",
    "            for layer in range(len(dnn)-2, -1, -1):\n",
    "                \n",
    "                if layer == 0:\n",
    "                    entree = data\n",
    "                else:\n",
    "                    entree = output_couches[layer-1]\n",
    "                diff_output_true_label = np.dot(diff_output_true_label, dnn[layer+1].W.T)*output_couches[layer]*(1-output_couches[layer])                \n",
    "                \n",
    "                grad_W = np.dot(entree.T, diff_output_true_label)\n",
    "                grad_b = diff_output_true_label.sum(0)\n",
    "                newDNN[couche].w = newDNN[couche].W - learning_rate*grad_W/taille_bacth\n",
    "                newDNN[couche].b = newDNN[couche].b - learning_rate*grad_b/taille_batch\n",
    "            \n",
    "            dnn = newDNN\n",
    "        output_couches = entree_sortie_reseau(dnn, data)\n",
    "        errorClassif = -np.log10(output_couches[-1])[label==1]\n",
    "        erreur = errorClassif.sum()\n",
    "        entropy.append(erreur)\n",
    "    f = plt.figure(figsize=(10, 7))\n",
    "    plt.plot(range(n_iter), entropy)\n",
    "    plt.legend(['Entropie croisée'])\n",
    "    plt.title(\"Évolution de l'entropie croisée au cours des iterations\")\n",
    "    plt.xlabel(\"nombre d'itérations\")\n",
    "    plt.ylabel('entropie croisée')\n",
    "    f.savefig('retropropagation_{}.png'.format(pre_trained))\n",
    "    return dnn       \n",
    "       \n",
    "    "
   ]
  },
  {
   "cell_type": "code",
   "execution_count": 19,
   "metadata": {},
   "outputs": [],
   "source": [
    "def test_DNN(dnn, data, label):\n",
    "    y_pred = entree_sortie_reseau(dnn, data)[-1]\n",
    "    return sum(y_pred-label)/len(label)\n",
    "    "
   ]
  },
  {
   "cell_type": "code",
   "execution_count": 32,
   "metadata": {},
   "outputs": [
    {
     "name": "stdout",
     "output_type": "stream",
     "text": [
      "[]\n",
      "[0, 1, 2, 3, 4, 5, 6, 7, 8, 9, 10, 11, 12, 13, 14, 15, 16, 17, 18, 19, 20, 21, 22, 23, 24, 25, 26, 27, 28, 39, 40, 41, 42, 43, 44, 45, 46, 47, 48, 49, 50, 51, 52, 53, 54, 55, 56, 57, 58, 59, 60, 61, 62, 63, 64, 65, 66, 67, 78, 79, 80, 81, 82, 83, 84, 85, 86, 87, 88, 89, 90, 91, 92, 93, 94, 95, 96, 97, 98, 99, 100, 101, 102, 103, 104, 105, 106, 117, 118, 119, 120, 121, 122, 123, 124, 125, 126, 127, 128, 129, 130, 131, 132, 133, 134, 135, 136, 137, 138, 139, 140, 141, 142, 143, 144, 145, 156, 157, 158, 159, 160, 161, 162, 163, 164, 165, 166, 167, 168, 169, 170, 171, 172, 173, 174, 175, 176, 177, 178, 179, 180, 181, 182, 183, 184, 195, 196, 197, 198, 199, 200, 201, 202, 203, 204, 205, 206, 207, 208, 209, 210, 211, 212, 213, 214, 215, 216, 217, 218, 219, 220, 221, 222, 223, 234, 235, 236, 237, 238, 239, 240, 241, 242, 243, 244, 245, 246, 247, 248, 249, 250, 251, 252, 253, 254, 255, 256, 257, 258, 259, 260, 261, 262, 273, 274, 275, 276, 277, 278, 279, 280, 281, 282, 283, 284, 285, 286, 287, 288, 289, 290, 291, 292, 293, 294, 295, 296, 297, 298, 299, 300, 301, 312, 313, 314, 315, 316, 317, 318, 319, 320, 321, 322, 323, 324, 325, 326, 327, 328, 329, 330, 331, 332, 333, 334, 335, 336, 337, 338, 339, 340, 351, 352, 353, 354, 355, 356, 357, 358, 359, 360, 361, 362, 363, 364, 365, 366, 367, 368, 369, 370, 371, 372, 373, 374, 375, 376, 377, 378, 379]\n",
      "0\n"
     ]
    },
    {
     "ename": "IndexError",
     "evalue": "index 0 is out of bounds for axis 0 with size 0",
     "output_type": "error",
     "traceback": [
      "\u001b[0;31m---------------------------------------------------------------------------\u001b[0m",
      "\u001b[0;31mIndexError\u001b[0m                                Traceback (most recent call last)",
      "\u001b[0;32m<ipython-input-32-480a4f02f770>\u001b[0m in \u001b[0;36m<module>\u001b[0;34m\u001b[0m\n\u001b[1;32m     25\u001b[0m \u001b[0;34m\u001b[0m\u001b[0m\n\u001b[1;32m     26\u001b[0m \u001b[0mprint\u001b[0m\u001b[0;34m(\u001b[0m\u001b[0mlen\u001b[0m\u001b[0;34m(\u001b[0m\u001b[0mX_train\u001b[0m\u001b[0;34m)\u001b[0m\u001b[0;34m)\u001b[0m\u001b[0;34m\u001b[0m\u001b[0;34m\u001b[0m\u001b[0m\n\u001b[0;32m---> 27\u001b[0;31m \u001b[0mdata_x_train\u001b[0m \u001b[0;34m=\u001b[0m \u001b[0mX_train\u001b[0m\u001b[0;34m[\u001b[0m\u001b[0mindices_train\u001b[0m\u001b[0;34m]\u001b[0m\u001b[0;34m\u001b[0m\u001b[0;34m\u001b[0m\u001b[0m\n\u001b[0m\u001b[1;32m     28\u001b[0m \u001b[0mdata_y_train\u001b[0m \u001b[0;34m=\u001b[0m \u001b[0mY_train\u001b[0m\u001b[0;34m[\u001b[0m\u001b[0mindices_train\u001b[0m\u001b[0;34m,\u001b[0m \u001b[0;34m:\u001b[0m\u001b[0;34m]\u001b[0m\u001b[0;34m\u001b[0m\u001b[0;34m\u001b[0m\u001b[0m\n\u001b[1;32m     29\u001b[0m \u001b[0mdata_x_test\u001b[0m \u001b[0;34m=\u001b[0m \u001b[0mX_train\u001b[0m\u001b[0;34m[\u001b[0m\u001b[0mindices_test\u001b[0m\u001b[0;34m]\u001b[0m\u001b[0;34m\u001b[0m\u001b[0;34m\u001b[0m\u001b[0m\n",
      "\u001b[0;31mIndexError\u001b[0m: index 0 is out of bounds for axis 0 with size 0"
     ]
    }
   ],
   "source": [
    "image_x = 20\n",
    "image_y = 16\n",
    "shape = (image_x, image_y)\n",
    "        \n",
    "neurones = [(p, 50),(50, 20),(20, 10)]\n",
    "nb_couches = len(neurones)\n",
    "\n",
    "m = 10\n",
    "X_train = data[10*39:(10+m)*39]\n",
    "print(X_train)\n",
    "Y_train = np.zeros((39*m, 10))\n",
    "for i in range(10):\n",
    "    Y_train[39*i:39*(i+1),i] = 1\n",
    "\n",
    "nb_iter = 150\n",
    "lr = 0.05\n",
    "batch_size = 10\n",
    "indices_train = []\n",
    "indices_test = []\n",
    "\n",
    "for i in range(10):\n",
    "    indices_train += range(39*i,39*(i+1)-10,1)\n",
    "    indices_test += range(39*(i+1)-10, 39*(i+1),1)\n",
    "print(indices_train)\n",
    "    \n",
    "print(len(X_train))\n",
    "data_x_train = X_train[indices_train]\n",
    "data_y_train = Y_train[indices_train, :]\n",
    "data_x_test = X_train[indices_test]\n",
    "data_y_test = Y_train[indices_test, :]\n",
    "        \n",
    "dbn = init_DBN(nb_couches, neurones)\n",
    "dnn = retropropagation(dbn, data_x_train, data_y_train, nb_iter, lr, batch_size, \"normal\")\n",
    "test_DNN(dnn, data_x_test, data_y_test)\n",
    "\n",
    "michel = init_DBN(nb_couches, neurones)\n",
    "michelle = train_DBN(data_x_train, michel, batch_size, nb_iter, lr, neurones)\n",
    "claude = retropropagation(michelle, data_x_train, data_y_train, nb_iter, lr, batch_size, \"pre_trained\")\n",
    "test_DNN(claude, data_x_test, data_y_test)"
   ]
  }
 ],
 "metadata": {
  "kernelspec": {
   "display_name": "Python 3",
   "language": "python",
   "name": "python3"
  },
  "language_info": {
   "codemirror_mode": {
    "name": "ipython",
    "version": 3
   },
   "file_extension": ".py",
   "mimetype": "text/x-python",
   "name": "python",
   "nbconvert_exporter": "python",
   "pygments_lexer": "ipython3",
   "version": "3.7.3"
  }
 },
 "nbformat": 4,
 "nbformat_minor": 2
}
