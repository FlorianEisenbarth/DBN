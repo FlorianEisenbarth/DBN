{
 "cells": [
  {
   "cell_type": "code",
   "execution_count": 1,
   "metadata": {},
   "outputs": [],
   "source": [
    "import pandas as pd\n",
    "import scipy.io as sio\n",
    "import numpy as np\n",
    "import matplotlib.pyplot as plt"
   ]
  },
  {
   "cell_type": "code",
   "execution_count": 2,
   "metadata": {},
   "outputs": [],
   "source": [
    "#chargement des données\n",
    "dfAlphaDigits = sio.loadmat(\"binaryalphadigs.mat\")"
   ]
  },
  {
   "cell_type": "code",
   "execution_count": 3,
   "metadata": {},
   "outputs": [],
   "source": [
    "#lire_alpha_digit\n",
    "def lire_alpha_digit(dataset, listId):\n",
    "    subsetData = dataset[listId,:].flatten()\n",
    "    listImages = np.array([])\n",
    "\n",
    "    for data in subsetData:\n",
    "        listImages = np.append(listImages,data.flatten())\n",
    "    \n",
    "  \n",
    "    output = np.array(listImages)\n",
    "\n",
    "    return output\n",
    "\n",
    "def lire_alpha_digit(dataset, list_idx):\n",
    "  imgs_set = dataset[list_idx,:].flatten()\n",
    "  imgs_flatten = []\n",
    "\n",
    "  for img in imgs_set:\n",
    "    imgs_flatten.append(img.flatten())\n",
    "  \n",
    "  imgs_set_output = np.array(imgs_flatten)\n",
    "\n",
    "  return imgs_set_output"
   ]
  },
  {
   "cell_type": "code",
   "execution_count": 5,
   "metadata": {},
   "outputs": [],
   "source": [
    "class RBMobject:\n",
    "  def __init__(self, p, q):\n",
    "    self.W = 0.01 * np.random.rand(p,q)\n",
    "    self.a = np.zeros((1,p))\n",
    "    self.b = np.zeros((1,q))\n",
    "    \n",
    "def init_RBM(p,q):\n",
    "    rbm = RBMobject(p,q)\n",
    "    rbm.W = 0.01 * np.random.rand(p,q)\n",
    "    return rbm"
   ]
  },
  {
   "cell_type": "code",
   "execution_count": 6,
   "metadata": {},
   "outputs": [],
   "source": [
    "def sigmoide(x):\n",
    "    return 1/(1+np.exp(-x))\n",
    "\n",
    "def entree_sortie_RBM(RBM, data):\n",
    "    b = RBM.b.reshape(-1,1)\n",
    "    W = RBM.W\n",
    "    #n, p = data.shape\n",
    "\n",
    "    sortie_RBM = 1/(1 + np.exp(- b.T - np.dot(data, W)))\n",
    "\n",
    "    return sortie_RBM"
   ]
  },
  {
   "cell_type": "code",
   "execution_count": 7,
   "metadata": {},
   "outputs": [],
   "source": [
    "  \n",
    "def sortie_entree_RBM(RBM, output_values):\n",
    "    W = RBM.W\n",
    "    a = RBM.a.reshape(-1,1)\n",
    "    #n, p = output_values.shape\n",
    "    \n",
    "    entree_RBM = 1/(1 + np.exp(- a.T - np.dot(output_values, W.T)))\n",
    "    return entree_RBM\n",
    "    "
   ]
  },
  {
   "cell_type": "code",
   "execution_count": 8,
   "metadata": {},
   "outputs": [],
   "source": [
    "def train_RBM(RBM, nb_epochs, learning_rate, batch_size, data, q):\n",
    "    MSE = []\n",
    "    n = data.shape[0]\n",
    "    p = data.shape[1]\n",
    "    for i in range(0, nb_epochs):\n",
    "        #shuffle\n",
    "        np.random.shuffle(data)\n",
    "        #batch iteration\n",
    "        for batch in range(0, n, batch_size):\n",
    "            indexX = np.arange(batch, min(batch + batch_size, n))\n",
    "            data_batch = data[indexX, :]\n",
    "            taille_batch = data_batch.shape[0]\n",
    "            v_0 = data_batch\n",
    "            p_h_v_0 = entree_sortie_RBM(RBM, v_0)\n",
    "            #tirage suivant la loi\n",
    "            h_0 = (np.random.rand(taille_batch, q) < p_h_v_0).astype(int)\n",
    "            p_v_h_0 = sortie_entree_RBM(RBM, h_0)\n",
    "            #tirage suivant la loi\n",
    "            v_1 = (np.random.rand(taille_batch, p) < p_v_h_0).astype(int)\n",
    "            p_h_v_1 = entree_sortie_RBM(RBM, v_1)\n",
    "            \n",
    "            #Gradient descent\n",
    "            da = np.sum(v_0-v_1, axis = 0)/taille_batch\n",
    "            db = np.sum(p_h_v_0 - p_h_v_1, axis=0)/taille_batch\n",
    "            dW = (v_0.T @ p_h_v_0 - v_1.T @ p_h_v_1) / taille_batch\n",
    "            \n",
    "            RBM.a = RBM.a + learning_rate * da\n",
    "            RBM.b = RBM.b + learning_rate * db\n",
    "            RBM.W = RBM.W + learning_rate * dW\n",
    "            \n",
    "        #reconstruction de l'entrée\n",
    "        h = entree_sortie_RBM(RBM, data)\n",
    "        data_reconstr = sortie_entree_RBM(RBM, h)\n",
    "        MSE.append(np.sum((data_reconstr - data)**2)/(n*p))\n",
    "    return RBM, MSE"
   ]
  },
  {
   "cell_type": "code",
   "execution_count": 9,
   "metadata": {},
   "outputs": [],
   "source": [
    "def generer_image_RBM(RBM, n_img, n_iter):\n",
    "\n",
    "  p,q = RBM.W.shape\n",
    "\n",
    "\n",
    "  for i in range(0, n_img):\n",
    "    v = (np.random.rand(p) < 0.5).astype(\"int\")\n",
    "    for j in range(0,n_iter):\n",
    "        p_h = entree_sortie_RBM(RBM, v)\n",
    "        h = (np.random.rand(q)<p_h).astype('int')\n",
    "        p_v = sortie_entree_RBM(RBM, h)\n",
    "        v = (np.random.rand(p) < p_v).astype('int')\n",
    "\n",
    "    plt.subplot(int(n_img/5), 5, i+1)\n",
    "    plt.imshow(1-v.reshape(20,16), cmap='gray')\n",
    "    plt.show()\n",
    "\n",
    "  return v"
   ]
  },
  {
   "cell_type": "code",
   "execution_count": 10,
   "metadata": {},
   "outputs": [
    {
     "data": {
      "image/png": "[encoded data removed]",
      "text/plain": [
       "<Figure size 432x288 with 1 Axes>"
      ]
     },
     "metadata": {
      "needs_background": "light"
     },
     "output_type": "display_data"
    }
   ],
   "source": [
    "\n",
    "\n",
    "index = [17, 19]\n",
    "data = lire_alpha_digit(dfAlphaDigits['dat'], index)\n",
    "p = data.shape[1]\n",
    "q = 200\n",
    "nb_epochs = 1000\n",
    "learning_rate = 0.1\n",
    "batch_size = 10\n",
    "rbm = RBMobject(p,q)\n",
    "RBM, MSE = train_RBM(rbm, nb_epochs, learning_rate, batch_size, data, q)\n",
    "\n",
    "plt.plot(MSE)\n",
    "plt.show()"
   ]
  },
  {
   "cell_type": "code",
   "execution_count": 11,
   "metadata": {},
   "outputs": [
    {
     "data": {
      "image/png": "[encoded data removed]",
      "text/plain": [
       "<Figure size 432x288 with 1 Axes>"
      ]
     },
     "metadata": {
      "needs_background": "light"
     },
     "output_type": "display_data"
    },
    {
     "data": {
      "image/png": "[encoded data removed]",
      "text/plain": [
       "<Figure size 432x288 with 1 Axes>"
      ]
     },
     "metadata": {
      "needs_background": "light"
     },
     "output_type": "display_data"
    },
    {
     "data": {
      "image/png": "[encoded data removed]",
      "text/plain": [
       "<Figure size 432x288 with 1 Axes>"
      ]
     },
     "metadata": {
      "needs_background": "light"
     },
     "output_type": "display_data"
    },
    {
     "data": {
      "image/png": "[encoded data removed]",
      "text/plain": [
       "<Figure size 432x288 with 1 Axes>"
      ]
     },
     "metadata": {
      "needs_background": "light"
     },
     "output_type": "display_data"
    },
    {
     "data": {
      "image/png": "[encoded data removed]",
      "text/plain": [
       "<Figure size 432x288 with 1 Axes>"
      ]
     },
     "metadata": {
      "needs_background": "light"
     },
     "output_type": "display_data"
    },
    {
     "data": {
      "text/plain": [
       "array([[1, 1, 1, 0, 0, 0, 0, 0, 0, 0, 0, 0, 0, 0, 0, 0, 1, 1, 1, 0, 0, 0,\n",
       "        0, 0, 0, 0, 0, 1, 1, 0, 0, 0, 1, 1, 0, 0, 0, 0, 0, 0, 0, 0, 0, 1,\n",
       "        1, 0, 0, 0, 1, 1, 1, 0, 0, 0, 0, 0, 0, 0, 1, 1, 1, 0, 0, 0, 1, 1,\n",
       "        1, 0, 0, 0, 0, 0, 0, 0, 1, 1, 1, 1, 0, 0, 1, 1, 1, 0, 0, 0, 0, 0,\n",
       "        0, 0, 1, 1, 1, 1, 0, 0, 1, 1, 1, 0, 0, 0, 0, 0, 0, 0, 1, 1, 1, 1,\n",
       "        0, 0, 1, 1, 1, 1, 1, 1, 1, 1, 1, 1, 1, 1, 1, 1, 1, 1, 1, 1, 1, 1,\n",
       "        1, 1, 1, 1, 1, 1, 1, 1, 1, 1, 1, 1, 1, 1, 1, 1, 1, 1, 1, 1, 1, 1,\n",
       "        1, 1, 1, 1, 1, 1, 1, 1, 1, 1, 1, 1, 1, 1, 1, 1, 1, 1, 1, 1, 1, 1,\n",
       "        0, 1, 1, 1, 0, 0, 0, 0, 0, 0, 1, 1, 1, 1, 1, 0, 0, 1, 1, 1, 1, 0,\n",
       "        0, 0, 0, 0, 1, 1, 1, 1, 1, 0, 0, 1, 1, 1, 1, 0, 0, 0, 0, 0, 0, 1,\n",
       "        1, 1, 1, 1, 0, 1, 1, 1, 1, 0, 0, 0, 0, 0, 0, 1, 1, 1, 1, 1, 0, 1,\n",
       "        1, 1, 1, 0, 0, 0, 0, 0, 0, 1, 1, 1, 1, 1, 0, 1, 1, 1, 1, 1, 0, 0,\n",
       "        0, 0, 0, 0, 1, 1, 1, 1, 0, 1, 1, 1, 1, 1, 0, 0, 0, 0, 0, 0, 1, 1,\n",
       "        1, 1, 0, 0, 1, 1, 1, 1, 0, 0, 0, 0, 0, 0, 0, 1, 1, 1, 0, 0, 1, 1,\n",
       "        1, 1, 1, 0, 0, 0, 0, 0, 0, 0, 1, 1]])"
      ]
     },
     "execution_count": 11,
     "metadata": {},
     "output_type": "execute_result"
    }
   ],
   "source": [
    "generer_image_RBM(RBM, 5, 1000)"
   ]
  },
  {
   "cell_type": "code",
   "execution_count": 12,
   "metadata": {},
   "outputs": [],
   "source": [
    "def init_DBN(nb_couches, couches):\n",
    "    DBN = []\n",
    "    for i in range(0, nb_couches):\n",
    "        p = couches[i][0]\n",
    "        q = couches[i][1]\n",
    "        DBN.append(init_RBM(p,q))\n",
    "    return DBN"
   ]
  },
  {
   "cell_type": "code",
   "execution_count": 13,
   "metadata": {},
   "outputs": [],
   "source": [
    "def pretrainDBN(DBN, nb_iter, learning_rate, mini_batch_size, data):\n",
    "    trainDBN = []\n",
    "    nb_couches = len(DBN)\n",
    "    for i in range(0, nb_couches):\n",
    "        q = DBN[i].W.shape[1]\n",
    "        train_RBMi, MSE = train_RBM(DBN[i], nb_iter, learning_rate, mini_batch_size, data, q)\n",
    "        trainDBN.append(train_RBMi)\n",
    "        data = entree_sortie_RBM(DBN[i], data)\n",
    "    return trainDBN"
   ]
  },
  {
   "cell_type": "code",
   "execution_count": 231,
   "metadata": {},
   "outputs": [],
   "source": [
    "def generer_img_DBN(preDBN, nb_iter_gibbs, nb_images, size):\n",
    "    for i in range(0,nb_images):\n",
    "        print(preDBN[-1])\n",
    "        p = preDBN[-1].W.shape[0]\n",
    "        generation = np.random.rand(1, p)\n",
    "        outputImage = (generation < 0.5)\n",
    "        \n",
    "        for iteration in range(nb_iter_gibbs):\n",
    "            probability = entree_sortie_RBM(preDBN[-1], outputImage)\n",
    "            generation = np.random.rand(probability.shape[0], probability.shape[1])\n",
    "            sortie = (generation < probability)\n",
    "            probability = sortie_entree_RBM(preDBN[-1], sortie)\n",
    "            generation = np.random.rand(probability.shape[0], probability.shape[1])\n",
    "            outputImage = (generation < probability)\n",
    "        \n",
    "        for l in range(len(preDBN)-2, -1, -1):\n",
    "            probability = sortie_entree_RBM(preDBN[l], outputImage)\n",
    "            generation = np.random.rand(probability.shape[0], probability.shape[1])\n",
    "            outputImage = (generation < probability)\n",
    "        # afficher image \n",
    "        image_sortie = np.reshape(outputImage, size)\n",
    "        plt.figure()\n",
    "        plt.imshow(image_sortie)"
   ]
  },
  {
   "cell_type": "code",
   "execution_count": 248,
   "metadata": {},
   "outputs": [
    {
     "name": "stdout",
     "output_type": "stream",
     "text": [
      "<__main__.RBMobject object at 0x7fc4fb42b7b8>\n",
      "<__main__.RBMobject object at 0x7fc4fb42b7b8>\n"
     ]
    },
    {
     "data": {
      "image/png": "[encoded data removed]",
      "text/plain": [
       "<Figure size 432x288 with 1 Axes>"
      ]
     },
     "metadata": {
      "needs_background": "light"
     },
     "output_type": "display_data"
    },
    {
     "data": {
      "image/png": "[encoded data removed]",
      "text/plain": [
       "<Figure size 432x288 with 1 Axes>"
      ]
     },
     "metadata": {
      "needs_background": "light"
     },
     "output_type": "display_data"
    }
   ],
   "source": [
    "index = [12]\n",
    "data = lire_alpha_digit(dfAlphaDigits['dat'], index)\n",
    "p = data.shape[1]\n",
    "q = 200\n",
    "nb_epochs = 1000\n",
    "learning_rate = 0.1\n",
    "mini_batch_size = 10\n",
    "nb_iter_gibbs = 100\n",
    "nb_images = 2\n",
    "\n",
    "image_x = 20\n",
    "image_y = 16\n",
    "shape = (image_x, image_y)\n",
    "        \n",
    "neurones = [(p, 50),(50, 20),(20, 10)]\n",
    "nb_couches = len(neurones)\n",
    "\n",
    "DBN = init_DBN(nb_couches, neurones)\n",
    "\n",
    "trainDBN = pretrainDBN(DBN, nb_epochs, learning_rate, mini_batch_size, data)\n",
    "generer_img_DBN(trainDBN, nb_iter_gibbs, nb_images, shape)\n",
    "\n",
    "plt.show()"
   ]
  },
  {
   "cell_type": "code",
   "execution_count": null,
   "metadata": {},
   "outputs": [],
   "source": []
  },
  {
   "cell_type": "code",
   "execution_count": null,
   "metadata": {},
   "outputs": [],
   "source": []
  }
 ],
 "metadata": {
  "kernelspec": {
   "display_name": "Python 3",
   "language": "python",
   "name": "python3"
  },
  "language_info": {
   "codemirror_mode": {
    "name": "ipython",
    "version": 3
   },
   "file_extension": ".py",
   "mimetype": "text/x-python",
   "name": "python",
   "nbconvert_exporter": "python",
   "pygments_lexer": "ipython3",
   "version": "3.7.3"
  }
 },
 "nbformat": 4,
 "nbformat_minor": 2
}
